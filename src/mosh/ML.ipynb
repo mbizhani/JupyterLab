{
 "cells": [
  {
   "cell_type": "markdown",
   "id": "98840213-eae2-40fd-9c98-d142fd9d84bb",
   "metadata": {},
   "source": [
    "Video: https://www.youtube.com/watch?v=7eh4d6sabA0\n",
    "\n",
    "Data: https://www.kaggle.com/datasets/gregorut/videogamesales\n"
   ]
  },
  {
   "cell_type": "code",
   "execution_count": null,
   "id": "a60ae53b-bdda-4146-80f0-0d3cd338786f",
   "metadata": {
    "tags": []
   },
   "outputs": [],
   "source": [
    "import pandas as pd"
   ]
  },
  {
   "cell_type": "code",
   "execution_count": null,
   "id": "3778c20a-0be0-4831-8808-658c79d90363",
   "metadata": {
    "tags": []
   },
   "outputs": [],
   "source": [
    "df = pd.read_csv('data/vgsales.csv')\n",
    "df"
   ]
  },
  {
   "cell_type": "code",
   "execution_count": null,
   "id": "13196eea-f7fb-4da6-8ab0-3a50b8766296",
   "metadata": {
    "tags": []
   },
   "outputs": [],
   "source": [
    "df.shape"
   ]
  },
  {
   "cell_type": "code",
   "execution_count": null,
   "id": "a2841fba-5636-437c-867c-61b84ab52229",
   "metadata": {
    "tags": []
   },
   "outputs": [],
   "source": [
    "df.describe()"
   ]
  },
  {
   "cell_type": "code",
   "execution_count": null,
   "id": "5922d80d-f253-472b-9141-f8001cc9f059",
   "metadata": {
    "tags": []
   },
   "outputs": [],
   "source": [
    "music_df = pd.read_csv(\"data/music.csv\")\n",
    "\n",
    "music_df"
   ]
  },
  {
   "cell_type": "code",
   "execution_count": null,
   "id": "c0870c99-c830-4397-bd05-8a2eae10c7dd",
   "metadata": {
    "tags": []
   },
   "outputs": [],
   "source": [
    "X = music_df.drop(columns=['genre'])\n",
    "X"
   ]
  },
  {
   "cell_type": "code",
   "execution_count": null,
   "id": "da8deca2-7b91-419d-88db-10a550f2aa3b",
   "metadata": {
    "tags": []
   },
   "outputs": [],
   "source": [
    "y = music_df['genre']\n",
    "y"
   ]
  },
  {
   "cell_type": "code",
   "execution_count": null,
   "id": "9ca269f0-e2af-444b-b799-8c5887df73ca",
   "metadata": {
    "tags": []
   },
   "outputs": [],
   "source": [
    "from sklearn.tree import DecisionTreeClassifier\n",
    "from sklearn.model_selection import train_test_split\n",
    "from sklearn.metrics import accuracy_score\n",
    "\n",
    "from joblib import dump, load"
   ]
  },
  {
   "cell_type": "code",
   "execution_count": null,
   "id": "eed10901-3292-43cd-bef0-5abaf85b7a1d",
   "metadata": {
    "tags": []
   },
   "outputs": [],
   "source": [
    "X_train, X_test, y_train, y_test = train_test_split(X, y, test_size=0.2)\n",
    "\n",
    "model = DecisionTreeClassifier()\n",
    "\n",
    "model.fit(X_train, y_train)\n",
    "\n",
    "predictions = model.predict(X_test)\n",
    "print(predictions)\n",
    "\n",
    "score = accuracy_score(y_test, predictions)\n",
    "print(score)\n",
    "\n",
    "dump(model, 'music-dt.joblib')"
   ]
  },
  {
   "cell_type": "code",
   "execution_count": null,
   "id": "0b934ff1-bab7-4782-97a6-0ab338ca5b49",
   "metadata": {
    "tags": []
   },
   "outputs": [],
   "source": [
    "loaded_model = load('music-dt.joblib')\n",
    "\n",
    "loaded_model.predict([ [21, 1], [22, 0] ])"
   ]
  }
 ],
 "metadata": {
  "kernelspec": {
   "display_name": "Python 3 (ipykernel)",
   "language": "python",
   "name": "python3"
  },
  "language_info": {
   "codemirror_mode": {
    "name": "ipython",
    "version": 3
   },
   "file_extension": ".py",
   "mimetype": "text/x-python",
   "name": "python",
   "nbconvert_exporter": "python",
   "pygments_lexer": "ipython3",
   "version": "3.11.2"
  }
 },
 "nbformat": 4,
 "nbformat_minor": 5
}
