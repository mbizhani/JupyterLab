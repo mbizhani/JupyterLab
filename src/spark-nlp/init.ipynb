{
 "cells": [
  {
   "cell_type": "code",
   "execution_count": null,
   "id": "917d3abc-8379-49b4-b6fb-184d8ea20b30",
   "metadata": {
    "tags": []
   },
   "outputs": [],
   "source": [
    "! mkdir -p data"
   ]
  },
  {
   "cell_type": "markdown",
   "id": "c27be5d5-a07f-4db1-a52a-35849cb71f42",
   "metadata": {
    "tags": []
   },
   "source": [
    "Download https://archive.ics.uci.edu/ml/machine-learning-databases/20newsgroups-mld/mini_newsgroups.tar.gz\n",
    "and unarchive it in `data` folder."
   ]
  },
  {
   "cell_type": "code",
   "execution_count": null,
   "id": "71c3e018-672c-4260-87bf-171856fe5e80",
   "metadata": {
    "tags": []
   },
   "outputs": [],
   "source": [
    "! ls ./data/mini_newsgroups/"
   ]
  },
  {
   "cell_type": "code",
   "execution_count": null,
   "id": "8b3a5331-224d-4e2e-8fa1-2d07f3a9dfdc",
   "metadata": {},
   "outputs": [],
   "source": [
    "from pyspark.sql import functions as fun\n",
    "\n",
    "texts = spark.read\\\n",
    "  .format(\"text\")\\\n",
    "  .option(\"recursiveFileLookup\", \"true\")\\\n",
    "  .option(\"wholetext\", \"true\")\\\n",
    "  .load(\"data/mini_newsgroups/\")\\\n",
    "  .withColumnRenamed(\"value\", \"text\")\\\n",
    "  .withColumn(\"filename\", fun.input_file_name()) # TIP: https://www.youtube.com/watch?v=7jxFffeQHpQ\n",
    "\n",
    "texts.show(n=5, truncate=120, vertical=True)"
   ]
  },
  {
   "cell_type": "code",
   "execution_count": null,
   "id": "95885d69-cdf0-4e0e-8b95-58333741c246",
   "metadata": {
    "tags": []
   },
   "outputs": [],
   "source": [
    "texts.limit(5).toPandas()"
   ]
  },
  {
   "cell_type": "code",
   "execution_count": null,
   "id": "3a18c489-0429-4079-b351-8745c1426b91",
   "metadata": {
    "tags": []
   },
   "outputs": [],
   "source": [
    "import os\n",
    "\n",
    "parts = (\"file://\" + os.path.dirname(os.path.realpath(\"data/mini_newsgroups\"))).split(\"/\")\n",
    "print(parts)"
   ]
  },
  {
   "cell_type": "code",
   "execution_count": null,
   "id": "f4140359-ccee-4198-97ce-bb01d889d532",
   "metadata": {
    "tags": []
   },
   "outputs": [],
   "source": [
    "texts3col = texts.withColumn(\"newsgroup\", fun.split(\"filename\", \"/\").getItem(len(parts) + 1))\n",
    "\n",
    "texts3col.limit(5).toPandas()"
   ]
  },
  {
   "cell_type": "code",
   "execution_count": null,
   "id": "44139e9d-95e1-4613-b143-e207a23eab7c",
   "metadata": {
    "tags": []
   },
   "outputs": [],
   "source": [
    "import matplotlib.pyplot as plt\n",
    "\n",
    "newsgroup_counts = texts3col.groupBy(\"newsgroup\").count().toPandas()\n",
    "\n",
    "newsgroup_counts.plot(kind='bar', figsize=(10, 5))\n",
    "plt.xticks(\n",
    "    ticks=range(len(newsgroup_counts)), \n",
    "    labels=newsgroup_counts['newsgroup']\n",
    ")\n",
    "plt.show()"
   ]
  },
  {
   "cell_type": "code",
   "execution_count": null,
   "id": "8d60e6be-4c98-4e9e-acc7-6fb34c464279",
   "metadata": {
    "tags": []
   },
   "outputs": [],
   "source": [
    "! mkdir -p models"
   ]
  },
  {
   "cell_type": "markdown",
   "id": "ba1458cf-b162-4631-b8ab-4a8469bc0f7f",
   "metadata": {},
   "source": [
    "Download pipline file from https://nlp.johnsnowlabs.com/2022/06/24/explain_document_ml_en_3_0.html and extract it in `models` folder."
   ]
  },
  {
   "cell_type": "code",
   "execution_count": null,
   "id": "51cecf09-68d4-4012-bdba-6ef9101aa133",
   "metadata": {
    "tags": []
   },
   "outputs": [],
   "source": [
    "from sparknlp.pretrained import PretrainedPipeline"
   ]
  },
  {
   "cell_type": "code",
   "execution_count": null,
   "id": "0c856623-ee18-4238-996a-d3c150c24872",
   "metadata": {
    "tags": []
   },
   "outputs": [],
   "source": [
    "pipeline = PretrainedPipeline.from_disk(\"models/explain_document_ml_en_4.0.0_3.0_1656066222624\")"
   ]
  },
  {
   "cell_type": "code",
   "execution_count": null,
   "id": "210a0161-55bb-43b2-856a-84d8232672e9",
   "metadata": {
    "tags": []
   },
   "outputs": [],
   "source": [
    "pipeline.annotate('Hellu wrold!')"
   ]
  },
  {
   "cell_type": "code",
   "execution_count": null,
   "id": "62a83f97-54de-4140-978a-b2337369c660",
   "metadata": {
    "tags": []
   },
   "outputs": [],
   "source": [
    "annot_texts = pipeline.transform(texts)\n",
    "\n",
    "annot_texts.printSchema()"
   ]
  },
  {
   "cell_type": "code",
   "execution_count": null,
   "id": "c0f81444-f2ca-4dd8-92ea-5f70a3db472e",
   "metadata": {
    "tags": []
   },
   "outputs": [],
   "source": [
    "annot_texts.show(n=2, truncate=110, vertical=True)"
   ]
  },
  {
   "cell_type": "code",
   "execution_count": null,
   "id": "28802b02-5c6b-401f-9b7e-e868909c269f",
   "metadata": {},
   "outputs": [],
   "source": [
    "from sparknlp import Finisher\n",
    "\n",
    "finisher = Finisher()\n",
    "# taking the lemma column\n",
    "finisher = finisher.setInputCols(['stems'])\n",
    "# seperating lemmas by a single space\n",
    "finished_texts_df = finisher.transform(annot_texts)\n",
    "finished_texts_df.show(n=1, truncate=110, vertical=True)"
   ]
  },
  {
   "cell_type": "code",
   "execution_count": null,
   "id": "b7b65d16-9836-4305-9ae3-d67d1e2c41f6",
   "metadata": {
    "tags": []
   },
   "outputs": [],
   "source": [
    "finished_texts_df.select('finished_stems').take(1)"
   ]
  }
 ],
 "metadata": {
  "kernelspec": {
   "display_name": "Python 3 (ipykernel)",
   "language": "python",
   "name": "python3"
  },
  "language_info": {
   "codemirror_mode": {
    "name": "ipython",
    "version": 3
   },
   "file_extension": ".py",
   "mimetype": "text/x-python",
   "name": "python",
   "nbconvert_exporter": "python",
   "pygments_lexer": "ipython3",
   "version": "3.11.2"
  }
 },
 "nbformat": 4,
 "nbformat_minor": 5
}
